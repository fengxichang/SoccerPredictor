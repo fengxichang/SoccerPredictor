{
 "cells": [
  {
   "cell_type": "code",
   "execution_count": 1,
   "metadata": {},
   "outputs": [],
   "source": [
    "import pandas as pd\n",
    "from typing import Any, Dict, List"
   ]
  },
  {
   "cell_type": "code",
   "execution_count": 2,
   "metadata": {},
   "outputs": [],
   "source": [
    "def get_unique_teams(df: pd.DataFrame) -> List[str]:\n",
    "    if {\"HomeTeam\", \"AwayTeam\"}.issubset(df.columns):\n",
    "        teams = sorted(pd.unique(df[[\"HomeTeam\", \"AwayTeam\"]].values.ravel(\"K\")))\n",
    "        if not teams:\n",
    "            raise FileNotFoundError(\"Teams columns from dataframe are empty.\")\n",
    "\n",
    "        return teams\n",
    "    else:\n",
    "        raise ValueError(\"Dataframe does not contain 'home' and 'away' columns.\")"
   ]
  },
  {
   "cell_type": "code",
   "execution_count": 3,
   "metadata": {},
   "outputs": [
    {
     "name": "stdout",
     "output_type": "stream",
     "text": [
      "['Arsenal', 'Bournemouth', 'Burnley', 'Chelsea', 'Crystal Palace', 'Everton', 'Hull', 'Leicester', 'Liverpool', 'Man City', 'Man United', 'Middlesbrough', 'Southampton', 'Stoke', 'Sunderland', 'Swansea', 'Tottenham', 'Watford', 'West Brom', 'West Ham']\n"
     ]
    }
   ],
   "source": [
    "loc=\"../data/datasets/\"\n",
    "raw_data_list = []\n",
    "\n",
    "raw_data_1=pd.read_csv(loc+\"2017-18.csv\")\n",
    "raw_data_2=pd.read_csv(loc+\"2016-17.csv\")\n",
    "raw_data_3=pd.read_csv(loc+\"2015-16.csv\")\n",
    "raw_data_4=pd.read_csv(loc+\"2014-15.csv\")\n",
    "raw_data_5=pd.read_csv(loc+\"2013-14.csv\")\n",
    "raw_data_6=pd.read_csv(loc+\"2012-13.csv\")\n",
    "raw_data_7=pd.read_csv(loc+\"2011-12.csv\")\n",
    "raw_data_8=pd.read_csv(loc+\"2010-11.csv\")\n",
    "\n",
    "raw_data_list = [raw_data_1, raw_data_2, raw_data_3, raw_data_4, raw_data_5, raw_data_6, raw_data_7, raw_data_8]\n",
    "print(get_unique_teams(raw_data_2))"
   ]
  },
  {
   "cell_type": "code",
   "execution_count": 4,
   "metadata": {},
   "outputs": [
    {
     "name": "stdout",
     "output_type": "stream",
     "text": [
      "插入成功\n",
      "插入成功\n",
      "插入成功\n",
      "插入成功\n",
      "插入成功\n",
      "插入成功\n",
      "插入成功\n",
      "插入成功\n",
      "插入成功\n",
      "插入成功\n",
      "插入成功\n",
      "插入成功\n",
      "插入成功\n",
      "插入成功\n",
      "插入成功\n",
      "插入成功\n",
      "插入成功\n",
      "插入成功\n",
      "插入成功\n",
      "插入成功\n",
      "插入成功\n",
      "插入成功\n",
      "插入成功\n",
      "插入成功\n",
      "插入成功\n",
      "插入成功\n",
      "插入成功\n",
      "插入成功\n",
      "插入成功\n",
      "插入成功\n",
      "插入成功\n",
      "插入成功\n",
      "插入成功\n",
      "插入成功\n",
      "插入成功\n"
     ]
    }
   ],
   "source": [
    "import uuid\n",
    "#导入sqllite3模块 \n",
    "import sqlite3\n",
    "\n",
    "# 1.硬盘上创建连接 \n",
    "con = sqlite3.connect(f\"file:../data/db/soccer.db?mode=rw\", uri=True) \n",
    "# 获取cursor对象 \n",
    "cur = con.cursor() \n",
    "sql = 'insert into Teams(id, name) values(?, ?)' \n",
    "    \n",
    "try: \n",
    "    for raw_data in raw_data_list:\n",
    "        for team in get_unique_teams(raw_data):\n",
    "            # 如果队伍已存在，则跳过\n",
    "            query = 'select COUNT(*) from Teams where name = ?'\n",
    "            cur.execute(query, (team,))\n",
    "            dataCount = cur.fetchone()[0]\n",
    "            if dataCount > 0:\n",
    "                continue\n",
    "\n",
    "            cur.execute(sql, (str(uuid.uuid4()), team))\n",
    "            #提交事务 \n",
    "            con.commit() \n",
    "            print('插入成功') \n",
    "except Exception as e: \n",
    "    print(e) \n",
    "    print('插入失败') \n",
    "    con.rollback() \n",
    "finally: \n",
    "    # 关闭游标 \n",
    "    cur.close() \n",
    "    # 关闭连接 \n",
    "    con.close()"
   ]
  }
 ],
 "metadata": {
  "kernelspec": {
   "display_name": "tf",
   "language": "python",
   "name": "python3"
  },
  "language_info": {
   "codemirror_mode": {
    "name": "ipython",
    "version": 3
   },
   "file_extension": ".py",
   "mimetype": "text/x-python",
   "name": "python",
   "nbconvert_exporter": "python",
   "pygments_lexer": "ipython3",
   "version": "3.9.0"
  },
  "orig_nbformat": 4
 },
 "nbformat": 4,
 "nbformat_minor": 2
}
