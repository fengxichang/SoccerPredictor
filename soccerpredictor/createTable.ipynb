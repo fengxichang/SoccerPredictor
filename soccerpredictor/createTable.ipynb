{
 "cells": [
  {
   "cell_type": "code",
   "execution_count": 13,
   "metadata": {},
   "outputs": [],
   "source": [
    "#导入sqllite3模块 \n",
    "import sqlite3 \n",
    "# 1.硬盘上创建连接 \n",
    "con = sqlite3.connect(f\"file:../data/db/soccer.db?mode=rw\", uri=True) \n",
    "# 获取cursor对象 \n",
    "cur = con.cursor() \n",
    "# 执行sql创建表 \n",
    "sql = 'create table Teams(id INTEGER PRIMARY KEY AUTOINCREMENT, name varchar(50) NOT NULL, UNIQUE(name))' \n",
    "dropSql = 'drop table teams'\n",
    "try: \n",
    "    cur.execute(dropSql)\n",
    "    cur.execute(sql)\n",
    "except Exception as e: \n",
    "    print(e) \n",
    "    print('创建表失败') \n",
    "finally: \n",
    "    # 关闭游标 \n",
    "    cur.close() \n",
    "    # 关闭连接 \n",
    "    con.close()"
   ]
  },
  {
   "cell_type": "code",
   "execution_count": 1,
   "metadata": {},
   "outputs": [],
   "source": [
    "#导入sqllite3模块 \n",
    "import sqlite3 \n",
    "# 1.硬盘上创建连接 \n",
    "con = sqlite3.connect(f\"file:../data/db/soccer.db?mode=rw\", uri=True) \n",
    "# 获取cursor对象 \n",
    "cur = con.cursor() \n",
    "# 执行sql创建表 \n",
    "sql = '''create table Accuracy(id varchar(50) PRIMARY KEY, model varchar(50) NOT NULL, \n",
    "    team varchar(50), type varchar(10) NOT NULL, epoch REAL, loss REAL, acc REAL)''' \n",
    "dropSql = 'drop table Accuracy'\n",
    "try: \n",
    "    cur.execute(dropSql)\n",
    "    cur.execute(sql)\n",
    "except Exception as e: \n",
    "    print(e) \n",
    "    print('创建表失败') \n",
    "finally: \n",
    "    # 关闭游标 \n",
    "    cur.close() \n",
    "    # 关闭连接 \n",
    "    con.close()"
   ]
  },
  {
   "cell_type": "code",
   "execution_count": 15,
   "metadata": {},
   "outputs": [],
   "source": [
    "#导入sqllite3模块 \n",
    "import sqlite3 \n",
    "# 1.硬盘上创建连接 \n",
    "con = sqlite3.connect(f\"file:../data/db/soccer.db?mode=rw\", uri=True) \n",
    "# 获取cursor对象 \n",
    "cur = con.cursor() \n",
    "# 执行sql创建表 \n",
    "sql = '''\n",
    "create table Fixtures(id INTEGER PRIMARY KEY AUTOINCREMENT, date varchar(10) NOT NULL,\n",
    "season varchar(10) NOT NULL, league varchar(10) NOT NULL, homeTeamID REAL NOT NULL,\n",
    "awayTeamID REAL NOT NULL, home_goals REAL, away_goals REAL, winner REAL, \n",
    "oddsDC_1X REAL, oddsDC_X2 REAL, homeStatsID varchar(50), awayStatsID varchar(50))\n",
    "'''\n",
    "dropSql = 'drop table Fixtures'\n",
    "try: \n",
    "    cur.execute(dropSql) \n",
    "    cur.execute(sql) \n",
    "except Exception as e: \n",
    "    print(e) \n",
    "    print('创建表失败') \n",
    "finally: \n",
    "    # 关闭游标 \n",
    "    cur.close() \n",
    "    # 关闭连接 \n",
    "    con.close()"
   ]
  },
  {
   "cell_type": "code",
   "execution_count": 16,
   "metadata": {},
   "outputs": [],
   "source": [
    "#导入sqllite3模块 \n",
    "import sqlite3 \n",
    "# 1.硬盘上创建连接 \n",
    "con = sqlite3.connect(f\"file:../data/db/soccer.db?mode=rw\", uri=True) \n",
    "# 获取cursor对象 \n",
    "cur = con.cursor() \n",
    "# 执行sql创建表 \n",
    "sql = '''\n",
    "create table TeamStats(id varchar(50) PRIMARY KEY, fixtureID REAL, teamID REAL,\n",
    "rating REAL, errors REAL, goals REAL, red_cards REAL, shots REAL)\n",
    "'''\n",
    "dropSql = 'drop table TeamStats'\n",
    "try: \n",
    "    cur.execute(dropSql) \n",
    "    cur.execute(sql) \n",
    "except Exception as e: \n",
    "    print(e) \n",
    "    print('创建表失败') \n",
    "finally: \n",
    "    # 关闭游标 \n",
    "    cur.close() \n",
    "    # 关闭连接 \n",
    "    con.close()"
   ]
  }
 ],
 "metadata": {
  "kernelspec": {
   "display_name": "tf24",
   "language": "python",
   "name": "python3"
  },
  "language_info": {
   "codemirror_mode": {
    "name": "ipython",
    "version": 3
   },
   "file_extension": ".py",
   "mimetype": "text/x-python",
   "name": "python",
   "nbconvert_exporter": "python",
   "pygments_lexer": "ipython3",
   "version": "3.9.0"
  },
  "orig_nbformat": 4
 },
 "nbformat": 4,
 "nbformat_minor": 2
}
