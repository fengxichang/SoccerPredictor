{
 "cells": [
  {
   "cell_type": "code",
   "execution_count": 6,
   "metadata": {},
   "outputs": [],
   "source": [
    "import numpy as np\n",
    "import pandas as pd\n",
    "from typing import Any, Dict, List"
   ]
  },
  {
   "cell_type": "code",
   "execution_count": 12,
   "metadata": {},
   "outputs": [],
   "source": [
    "def get_unique_teams(df: pd.DataFrame) -> List[str]:\n",
    "    if {\"HomeTeam\", \"AwayTeam\"}.issubset(df.columns):\n",
    "        teams = sorted(pd.unique(df[[\"HomeTeam\", \"AwayTeam\"]].values.ravel(\"K\")))\n",
    "        if not teams:\n",
    "            raise FileNotFoundError(\"Teams columns from dataframe are empty.\")\n",
    "\n",
    "        return teams\n",
    "    else:\n",
    "        raise ValueError(\"Dataframe does not contain 'home' and 'away' columns.\")"
   ]
  },
  {
   "cell_type": "code",
   "execution_count": 15,
   "metadata": {},
   "outputs": [
    {
     "name": "stdout",
     "output_type": "stream",
     "text": [
      "['Arsenal', 'Bournemouth', 'Burnley', 'Chelsea', 'Crystal Palace', 'Everton', 'Hull', 'Leicester', 'Liverpool', 'Man City', 'Man United', 'Middlesbrough', 'Southampton', 'Stoke', 'Sunderland', 'Swansea', 'Tottenham', 'Watford', 'West Brom', 'West Ham']\n"
     ]
    }
   ],
   "source": [
    "loc=\"../data/datasets/\"\n",
    "\n",
    "raw_data_2=pd.read_csv(loc+\"2016-17.csv\")\n",
    "print(get_unique_teams(raw_data_2))"
   ]
  },
  {
   "cell_type": "code",
   "execution_count": 34,
   "metadata": {},
   "outputs": [],
   "source": [
    "# 创建teams数据表\n",
    "#导入sqllite3模块 \n",
    "import sqlite3 \n",
    "# 1.硬盘上创建连接 \n",
    "con = sqlite3.connect(f\"file:../data/db/soccer.db?mode=rw\", uri=True) \n",
    "# 获取cursor对象 \n",
    "cur = con.cursor() \n",
    "# 执行sql创建表 \n",
    "sql = 'create table teams(id varchar(50) PRIMARY KEY, name varchar(50) NOT NULL)' \n",
    "try: \n",
    "    cur.execute(sql) \n",
    "except Exception as e: \n",
    "    print(e) \n",
    "    print('创建表失败') \n",
    "finally: \n",
    "    # 关闭游标 \n",
    "    cur.close() \n",
    "    # 关闭连接 \n",
    "    con.close()"
   ]
  },
  {
   "cell_type": "code",
   "execution_count": 36,
   "metadata": {},
   "outputs": [
    {
     "name": "stdout",
     "output_type": "stream",
     "text": [
      "插入成功\n",
      "插入成功\n",
      "插入成功\n",
      "插入成功\n",
      "插入成功\n",
      "插入成功\n",
      "插入成功\n",
      "插入成功\n",
      "插入成功\n",
      "插入成功\n",
      "插入成功\n",
      "插入成功\n",
      "插入成功\n",
      "插入成功\n",
      "插入成功\n",
      "插入成功\n",
      "插入成功\n",
      "插入成功\n",
      "插入成功\n",
      "插入成功\n"
     ]
    }
   ],
   "source": [
    "import uuid\n",
    "# 1.硬盘上创建连接 \n",
    "con = sqlite3.connect(f\"file:../data/db/soccer.db?mode=rw\", uri=True) \n",
    "# 获取cursor对象 \n",
    "cur = con.cursor() \n",
    "sql = 'insert into teams(id, name) values(?, ?)' \n",
    "try: \n",
    "    for team in get_unique_teams(raw_data_2):\n",
    "        cur.execute(sql, (str(uuid.uuid4()), team))\n",
    "        #提交事务 \n",
    "        con.commit() \n",
    "        print('插入成功') \n",
    "except Exception as e: \n",
    "    print(e) \n",
    "    print('插入失败') \n",
    "    con.rollback() \n",
    "finally: \n",
    "    # 关闭游标 \n",
    "    cur.close() \n",
    "    # 关闭连接 \n",
    "    con.close()"
   ]
  },
  {
   "cell_type": "code",
   "execution_count": null,
   "metadata": {},
   "outputs": [],
   "source": []
  }
 ],
 "metadata": {
  "kernelspec": {
   "display_name": "tf",
   "language": "python",
   "name": "python3"
  },
  "language_info": {
   "codemirror_mode": {
    "name": "ipython",
    "version": 3
   },
   "file_extension": ".py",
   "mimetype": "text/x-python",
   "name": "python",
   "nbconvert_exporter": "python",
   "pygments_lexer": "ipython3",
   "version": "3.9.0"
  },
  "orig_nbformat": 4
 },
 "nbformat": 4,
 "nbformat_minor": 2
}
