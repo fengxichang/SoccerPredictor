{
 "cells": [
  {
   "cell_type": "code",
   "execution_count": null,
   "metadata": {},
   "outputs": [],
   "source": [
    "import pandas as pd\n",
    "import sqlite3"
   ]
  },
  {
   "cell_type": "code",
   "execution_count": null,
   "metadata": {},
   "outputs": [],
   "source": [
    "con = sqlite3.connect(f\"file:../data/db/soccer.db?mode=rw\", uri=True) \n",
    "# 获取cursor对象 \n",
    "cur = con.cursor() "
   ]
  },
  {
   "cell_type": "code",
   "execution_count": null,
   "metadata": {},
   "outputs": [],
   "source": [
    "import matplotlib.pyplot as plt\n",
    "\n",
    "# 如果队伍已存在，则跳过\n",
    "query = 'select name from Teams'\n",
    "cur.execute(query,)\n",
    "dataCount = cur.fetchall()\n",
    "\n",
    "for v in dataCount:\n",
    "    \n",
    "    sql = \"\"\n",
    "    results = pd.read_sql('''\n",
    "        SELECT * FROM Accuracy where team = ? and model = ?\n",
    "    ''', con, params=(v[0], 'KVQE'))\n",
    "    \n",
    "    train_results = results[results['type'] == 'test']\n",
    "    if len(train_results) == 0:\n",
    "        continue\n",
    "\n",
    "    print(v[0])\n",
    "    epochs = range(1, len(train_results) + 1)\n",
    "\n",
    "    # acc变化曲线图\n",
    "    plt.plot(epochs, results[results['type'] == 'train']['acc'], 'bo', label=\"Tarining acc\")\n",
    "    plt.plot(epochs, results[results['type'] == 'test']['acc'], 'b', label=\"Test acc\")\n",
    "    plt.title('Training and test acc -- ' + v[0])\n",
    "    plt.xlabel('Epochs')\n",
    "    plt.ylabel('Acc')\n",
    "    plt.legend()\n",
    "\n",
    "    plt.show()\n",
    "\n",
    "    # loss变化曲线图\n",
    "    plt.plot(epochs, results[results['type'] == 'train']['loss'], 'bo', label=\"Tarining loss\")\n",
    "    plt.plot(epochs, results[results['type'] == 'test']['loss'], 'b', label=\"Test loss\")\n",
    "    plt.title('Training and test loss -- ' + v[0])\n",
    "    plt.xlabel('Epochs')\n",
    "    plt.ylabel('Loss')\n",
    "    plt.legend()\n",
    "\n",
    "    plt.show()\n",
    "\n",
    "    print(\"===================================================================================================\")\n"
   ]
  }
 ],
 "metadata": {
  "kernelspec": {
   "display_name": "tf",
   "language": "python",
   "name": "python3"
  },
  "language_info": {
   "codemirror_mode": {
    "name": "ipython",
    "version": 3
   },
   "file_extension": ".py",
   "mimetype": "text/x-python",
   "name": "python",
   "nbconvert_exporter": "python",
   "pygments_lexer": "ipython3",
   "version": "3.9.0"
  },
  "orig_nbformat": 4
 },
 "nbformat": 4,
 "nbformat_minor": 2
}
